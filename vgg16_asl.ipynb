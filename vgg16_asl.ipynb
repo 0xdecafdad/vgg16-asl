{
 "cells": [
  {
   "cell_type": "code",
   "execution_count": 2,
   "id": "eaba1697",
   "metadata": {},
   "outputs": [],
   "source": [
    "from tensorflow import keras\n",
    "from keras.applications import vgg16\n",
    "from keras.applications.vgg16 import preprocess_input\n",
    "from load_data import as_numpy"
   ]
  },
  {
   "cell_type": "code",
   "execution_count": 3,
   "id": "2ccc3a37",
   "metadata": {},
   "outputs": [
    {
     "name": "stderr",
     "output_type": "stream",
     "text": [
      "/Users/shaun/miniforge3/envs/tensorflow/lib/python3.9/site-packages/PIL/TiffImagePlugin.py:822: UserWarning: Truncated File Read\n",
      "  warnings.warn(str(msg))\n"
     ]
    },
    {
     "name": "stdout",
     "output_type": "stream",
     "text": [
      "Image loading completed...\n",
      "Loaded 24998 images\n",
      "Unable to load 4 images\n"
     ]
    }
   ],
   "source": [
    "# Load data as list of Numpy arrays\n",
    "data = as_numpy(\"./PetImages\", True)"
   ]
  },
  {
   "cell_type": "code",
   "execution_count": 9,
   "id": "72de24b2",
   "metadata": {},
   "outputs": [
    {
     "name": "stdout",
     "output_type": "stream",
     "text": [
      "(429, 496, 3)\n",
      "(472, 404, 3)\n",
      "(375, 500, 3)\n",
      "(500, 313, 3)\n",
      "(350, 480, 3)\n"
     ]
    }
   ],
   "source": [
    "# View shape of five random images\n",
    "from random import randint\n",
    "for i in range(5):\n",
    "    print(data[randint(0,len(data)-1)].shape)"
   ]
  },
  {
   "cell_type": "code",
   "execution_count": 10,
   "id": "06b34561",
   "metadata": {},
   "outputs": [],
   "source": [
    "# Preprocess input\n",
    "for elem in data:\n",
    "    elem = preprocess_input(elem)"
   ]
  },
  {
   "cell_type": "code",
   "execution_count": 11,
   "id": "18194f80",
   "metadata": {},
   "outputs": [
    {
     "name": "stdout",
     "output_type": "stream",
     "text": [
      "(237, 265, 3)\n",
      "(375, 500, 3)\n",
      "(375, 500, 3)\n",
      "(366, 500, 3)\n",
      "(400, 276, 3)\n"
     ]
    }
   ],
   "source": [
    "# View shape of five random images\n",
    "for i in range(5):\n",
    "    print(data[randint(0,len(data)-1)].shape)"
   ]
  }
 ],
 "metadata": {
  "kernelspec": {
   "display_name": "Python 3.9.10 ('tensorflow')",
   "language": "python",
   "name": "python3910jvsc74a57bd02b3e8d847383b418f4f5c082aab76ad7cfafed727a8a909d5c0e0532c64b9ef4"
  },
  "language_info": {
   "codemirror_mode": {
    "name": "ipython",
    "version": 3
   },
   "file_extension": ".py",
   "mimetype": "text/x-python",
   "name": "python",
   "nbconvert_exporter": "python",
   "pygments_lexer": "ipython3",
   "version": "3.9.10"
  }
 },
 "nbformat": 4,
 "nbformat_minor": 5
}
