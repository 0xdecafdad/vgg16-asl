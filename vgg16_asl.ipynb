{
 "cells": [
  {
   "cell_type": "code",
   "execution_count": 1,
   "id": "eaba1697",
   "metadata": {},
   "outputs": [],
   "source": [
    "from tensorflow import keras\n",
    "from keras.applications import VGG16\n",
    "from keras.applications.vgg16 import preprocess_input\n",
    "from load_data import as_numpy"
   ]
  },
  {
   "cell_type": "code",
   "execution_count": 2,
   "id": "2ccc3a37",
   "metadata": {},
   "outputs": [
    {
     "name": "stderr",
     "output_type": "stream",
     "text": [
      "/Users/shaun/miniforge3/envs/tensorflow/lib/python3.9/site-packages/PIL/TiffImagePlugin.py:822: UserWarning: Truncated File Read\n",
      "  warnings.warn(str(msg))\n"
     ]
    },
    {
     "name": "stdout",
     "output_type": "stream",
     "text": [
      "Image loading completed...\n",
      "Loaded 24998 images\n",
      "Unable to load 4 images\n"
     ]
    }
   ],
   "source": [
    "# Load data as list of Numpy arrays\n",
    "data = as_numpy(\"./PetImages\", True)"
   ]
  },
  {
   "cell_type": "code",
   "execution_count": 3,
   "id": "72de24b2",
   "metadata": {},
   "outputs": [
    {
     "name": "stdout",
     "output_type": "stream",
     "text": [
      "[[[199. 169. 131.]\n",
      "  [200. 170. 132.]\n",
      "  [202. 172. 134.]\n",
      "  ...\n",
      "  [173. 121.  97.]\n",
      "  [172. 120.  96.]\n",
      "  [173. 119.  93.]]\n",
      "\n",
      " [[200. 170. 132.]\n",
      "  [201. 171. 133.]\n",
      "  [203. 173. 135.]\n",
      "  ...\n",
      "  [174. 122.  98.]\n",
      "  [173. 121.  97.]\n",
      "  [173. 119.  93.]]\n",
      "\n",
      " [[202. 172. 134.]\n",
      "  [203. 173. 135.]\n",
      "  [204. 174. 136.]\n",
      "  ...\n",
      "  [176. 124. 100.]\n",
      "  [175. 123.  99.]\n",
      "  [175. 121.  95.]]\n",
      "\n",
      " ...\n",
      "\n",
      " [[ 67.  52.  49.]\n",
      "  [ 66.  51.  48.]\n",
      "  [ 68.  54.  53.]\n",
      "  ...\n",
      "  [144. 174. 202.]\n",
      "  [138. 172. 199.]\n",
      "  [147. 180. 211.]]\n",
      "\n",
      " [[ 68.  53.  50.]\n",
      "  [ 67.  52.  49.]\n",
      "  [ 68.  54.  53.]\n",
      "  ...\n",
      "  [133. 163. 191.]\n",
      "  [123. 157. 184.]\n",
      "  [126. 159. 190.]]\n",
      "\n",
      " [[ 69.  54.  51.]\n",
      "  [ 67.  52.  49.]\n",
      "  [ 68.  54.  53.]\n",
      "  ...\n",
      "  [132. 162. 190.]\n",
      "  [116. 150. 177.]\n",
      "  [112. 145. 176.]]]\n"
     ]
    }
   ],
   "source": [
    "# View first element of data\n",
    "print(data[0])"
   ]
  },
  {
   "cell_type": "code",
   "execution_count": 4,
   "id": "06b34561",
   "metadata": {},
   "outputs": [],
   "source": [
    "# Preprocess input\n",
    "for elem in data:\n",
    "    elem = preprocess_input(elem)"
   ]
  },
  {
   "cell_type": "code",
   "execution_count": 5,
   "id": "18194f80",
   "metadata": {},
   "outputs": [
    {
     "name": "stdout",
     "output_type": "stream",
     "text": [
      "[[[ 75.32       52.221      27.060997 ]\n",
      "  [ 76.32       53.221      28.060997 ]\n",
      "  [ 78.32       55.221      30.060997 ]\n",
      "  ...\n",
      "  [ 49.32        4.2210007  -6.939003 ]\n",
      "  [ 48.32        3.2210007  -7.939003 ]\n",
      "  [ 49.32        2.2210007 -10.939003 ]]\n",
      "\n",
      " [[ 76.32       53.221      28.060997 ]\n",
      "  [ 77.32       54.221      29.060997 ]\n",
      "  [ 79.32       56.221      31.060997 ]\n",
      "  ...\n",
      "  [ 50.32        5.2210007  -5.939003 ]\n",
      "  [ 49.32        4.2210007  -6.939003 ]\n",
      "  [ 49.32        2.2210007 -10.939003 ]]\n",
      "\n",
      " [[ 78.32       55.221      30.060997 ]\n",
      "  [ 79.32       56.221      31.060997 ]\n",
      "  [ 80.32       57.221      32.060997 ]\n",
      "  ...\n",
      "  [ 52.32        7.2210007  -3.939003 ]\n",
      "  [ 51.32        6.2210007  -4.939003 ]\n",
      "  [ 51.32        4.2210007  -8.939003 ]]\n",
      "\n",
      " ...\n",
      "\n",
      " [[-56.68      -64.779     -54.939003 ]\n",
      "  [-57.68      -65.779     -55.939003 ]\n",
      "  [-55.68      -62.779     -50.939003 ]\n",
      "  ...\n",
      "  [ 20.32       57.221      98.061    ]\n",
      "  [ 14.32       55.221      95.061    ]\n",
      "  [ 23.32       63.221     107.061    ]]\n",
      "\n",
      " [[-55.68      -63.779     -53.939003 ]\n",
      "  [-56.68      -64.779     -54.939003 ]\n",
      "  [-55.68      -62.779     -50.939003 ]\n",
      "  ...\n",
      "  [  9.32       46.221      87.061    ]\n",
      "  [ -0.6800003  40.221      80.061    ]\n",
      "  [  2.3199997  42.221      86.061    ]]\n",
      "\n",
      " [[-54.68      -62.779     -52.939003 ]\n",
      "  [-56.68      -64.779     -54.939003 ]\n",
      "  [-55.68      -62.779     -50.939003 ]\n",
      "  ...\n",
      "  [  8.32       45.221      86.061    ]\n",
      "  [ -7.6800003  33.221      73.061    ]\n",
      "  [-11.68       28.221      72.061    ]]]\n"
     ]
    }
   ],
   "source": [
    "# View first element of data\n",
    "print(data[0])"
   ]
  },
  {
   "cell_type": "code",
   "execution_count": null,
   "id": "80c91247",
   "metadata": {},
   "outputs": [],
   "source": []
  }
 ],
 "metadata": {
  "kernelspec": {
   "display_name": "Python 3 (ipykernel)",
   "language": "python",
   "name": "python3"
  },
  "language_info": {
   "codemirror_mode": {
    "name": "ipython",
    "version": 3
   },
   "file_extension": ".py",
   "mimetype": "text/x-python",
   "name": "python",
   "nbconvert_exporter": "python",
   "pygments_lexer": "ipython3",
   "version": "3.9.10"
  }
 },
 "nbformat": 4,
 "nbformat_minor": 5
}
