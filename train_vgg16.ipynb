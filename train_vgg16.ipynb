{
 "cells": [
  {
   "cell_type": "code",
   "execution_count": 18,
   "id": "e591f846",
   "metadata": {},
   "outputs": [],
   "source": [
    "# Load dependencies\n",
    "import pickle\n",
    "import PIL\n",
    "from PIL import UnidentifiedImageError\n",
    "import tensorflow as tf\n",
    "from tensorflow import keras\n",
    "from keras.applications.vgg16 import preprocess_input\n",
    "from keras.callbacks import ModelCheckpoint\n",
    "from os.path import isdir\n",
    "from os import scandir\n",
    "from os import remove"
   ]
  },
  {
   "cell_type": "code",
   "execution_count": 19,
   "id": "56bfa778",
   "metadata": {},
   "outputs": [
    {
     "name": "stdout",
     "output_type": "stream",
     "text": [
      "4 images deleted.\n"
     ]
    }
   ],
   "source": [
    "# Filter out corrupted images\n",
    "imgs_deleted = 0\n",
    "\n",
    "# Loop through all images of each class\n",
    "for subdir in scandir(\"./PetImages\"):\n",
    "    # If item is a directory, loop through all its contents\n",
    "    if isdir(subdir):\n",
    "        for img in scandir(subdir):\n",
    "            # Try to open image\n",
    "            # If unable, assume img is corrupted and remove it\n",
    "            try:\n",
    "                img = PIL.Image.open(img.path)\n",
    "            except PIL.UnidentifiedImageError:\n",
    "                remove(img.path)\n",
    "                imgs_deleted += 1\n",
    "                \n",
    "print(imgs_deleted, \"images deleted.\")"
   ]
  },
  {
   "cell_type": "code",
   "execution_count": 20,
   "id": "5ce4e82c",
   "metadata": {},
   "outputs": [],
   "source": [
    "# Create the data generator\n",
    "train_datagen = tf.keras.preprocessing.image.ImageDataGenerator(\n",
    "    preprocessing_function=preprocess_input,\n",
    "    validation_split=0.2,\n",
    ")"
   ]
  },
  {
   "cell_type": "code",
   "execution_count": 21,
   "id": "6fbdf820",
   "metadata": {},
   "outputs": [
    {
     "name": "stdout",
     "output_type": "stream",
     "text": [
      "Found 20000 images belonging to 2 classes.\n"
     ]
    }
   ],
   "source": [
    "# Create training set as generator\n",
    "train_generator = train_datagen.flow_from_directory(\n",
    "    \"./PetImages\",\n",
    "    target_size=(224,224),\n",
    "    batch_size=32,\n",
    "    shuffle=True,\n",
    "    subset='training'\n",
    ")"
   ]
  },
  {
   "cell_type": "code",
   "execution_count": 22,
   "id": "f7646261",
   "metadata": {},
   "outputs": [
    {
     "name": "stdout",
     "output_type": "stream",
     "text": [
      "Found 4998 images belonging to 2 classes.\n"
     ]
    }
   ],
   "source": [
    "# Create validation set as generator\n",
    "val_generator = train_datagen.flow_from_directory(\n",
    "    \"./PetImages\",\n",
    "    target_size=(224,224),\n",
    "    batch_size=32,\n",
    "    shuffle=True,\n",
    "    subset='validation'\n",
    ")"
   ]
  },
  {
   "cell_type": "code",
   "execution_count": 23,
   "id": "2805dcc0",
   "metadata": {},
   "outputs": [],
   "source": [
    "# Build model by creating instance of VGG16\n",
    "model = keras.applications.VGG16(\n",
    "    include_top=True,\n",
    "    weights=None,\n",
    "    classes=2,\n",
    "    classifier_activation='softmax'\n",
    ")"
   ]
  },
  {
   "cell_type": "code",
   "execution_count": 24,
   "id": "3bd29ca6",
   "metadata": {},
   "outputs": [
    {
     "name": "stdout",
     "output_type": "stream",
     "text": [
      "Model: \"vgg16\"\n",
      "_________________________________________________________________\n",
      " Layer (type)                Output Shape              Param #   \n",
      "=================================================================\n",
      " input_2 (InputLayer)        [(None, 224, 224, 3)]     0         \n",
      "                                                                 \n",
      " block1_conv1 (Conv2D)       (None, 224, 224, 64)      1792      \n",
      "                                                                 \n",
      " block1_conv2 (Conv2D)       (None, 224, 224, 64)      36928     \n",
      "                                                                 \n",
      " block1_pool (MaxPooling2D)  (None, 112, 112, 64)      0         \n",
      "                                                                 \n",
      " block2_conv1 (Conv2D)       (None, 112, 112, 128)     73856     \n",
      "                                                                 \n",
      " block2_conv2 (Conv2D)       (None, 112, 112, 128)     147584    \n",
      "                                                                 \n",
      " block2_pool (MaxPooling2D)  (None, 56, 56, 128)       0         \n",
      "                                                                 \n",
      " block3_conv1 (Conv2D)       (None, 56, 56, 256)       295168    \n",
      "                                                                 \n",
      " block3_conv2 (Conv2D)       (None, 56, 56, 256)       590080    \n",
      "                                                                 \n",
      " block3_conv3 (Conv2D)       (None, 56, 56, 256)       590080    \n",
      "                                                                 \n",
      " block3_pool (MaxPooling2D)  (None, 28, 28, 256)       0         \n",
      "                                                                 \n",
      " block4_conv1 (Conv2D)       (None, 28, 28, 512)       1180160   \n",
      "                                                                 \n",
      " block4_conv2 (Conv2D)       (None, 28, 28, 512)       2359808   \n",
      "                                                                 \n",
      " block4_conv3 (Conv2D)       (None, 28, 28, 512)       2359808   \n",
      "                                                                 \n",
      " block4_pool (MaxPooling2D)  (None, 14, 14, 512)       0         \n",
      "                                                                 \n",
      " block5_conv1 (Conv2D)       (None, 14, 14, 512)       2359808   \n",
      "                                                                 \n",
      " block5_conv2 (Conv2D)       (None, 14, 14, 512)       2359808   \n",
      "                                                                 \n",
      " block5_conv3 (Conv2D)       (None, 14, 14, 512)       2359808   \n",
      "                                                                 \n",
      " block5_pool (MaxPooling2D)  (None, 7, 7, 512)         0         \n",
      "                                                                 \n",
      " flatten (Flatten)           (None, 25088)             0         \n",
      "                                                                 \n",
      " fc1 (Dense)                 (None, 4096)              102764544 \n",
      "                                                                 \n",
      " fc2 (Dense)                 (None, 4096)              16781312  \n",
      "                                                                 \n",
      " predictions (Dense)         (None, 2)                 8194      \n",
      "                                                                 \n",
      "=================================================================\n",
      "Total params: 134,268,738\n",
      "Trainable params: 134,268,738\n",
      "Non-trainable params: 0\n",
      "_________________________________________________________________\n"
     ]
    }
   ],
   "source": [
    "# Print model details\n",
    "model.summary()"
   ]
  },
  {
   "cell_type": "code",
   "execution_count": 25,
   "id": "9b70aee1",
   "metadata": {},
   "outputs": [],
   "source": [
    "# Specify optimizer, loss, and metrics for model\n",
    "model.compile(\n",
    "    optimizer='rmsprop', \n",
    "    loss='categorical_crossentropy',\n",
    "    metrics = ['accuracy']\n",
    ")"
   ]
  },
  {
   "cell_type": "code",
   "execution_count": 26,
   "id": "570395f5",
   "metadata": {},
   "outputs": [],
   "source": [
    "# Specify callbacks\n",
    "model_checkpoint_callback = ModelCheckpoint(\n",
    "    \"./models/checkpoints/cats-and-dogs/save_at_epoch_{epoch}.h5\",\n",
    "    monitor=\"val_loss\",\n",
    "    save_best_only=True,\n",
    ")"
   ]
  },
  {
   "cell_type": "code",
   "execution_count": 27,
   "id": "c5e5dd61",
   "metadata": {},
   "outputs": [
    {
     "name": "stderr",
     "output_type": "stream",
     "text": [
      "2022-04-18 16:04:42.052438: I tensorflow/core/grappler/optimizers/custom_graph_optimizer_registry.cc:113] Plugin optimizer for device_type GPU is enabled.\n"
     ]
    },
    {
     "name": "stdout",
     "output_type": "stream",
     "text": [
      "625/625 [==============================] - ETA: 0s - loss: 349444.1562 - accuracy: 0.4998"
     ]
    },
    {
     "name": "stderr",
     "output_type": "stream",
     "text": [
      "2022-04-18 16:43:55.967781: I tensorflow/core/grappler/optimizers/custom_graph_optimizer_registry.cc:113] Plugin optimizer for device_type GPU is enabled.\n"
     ]
    },
    {
     "name": "stdout",
     "output_type": "stream",
     "text": [
      "\b\b\b\b\b\b\b\b\b\b\b\b\b\b\b\b\b\b\b\b\b\b\b\b\b\b\b\b\b\b\b\b\b\b\b\b\b\b\b\b\b\b\b\b\b\b\b\b\b\b\b\b\b\b\b\b\b\b\b\b\b\b\b\b\b\b\b\b\b\b\b\b\b\b\b\b\b\b\b\b\b\b\b\b\b\b\b\b\b\r",
      "625/625 [==============================] - 2447s 4s/step - loss: 349444.1562 - accuracy: 0.4998 - val_loss: 0.6932 - val_accuracy: 0.5000\n"
     ]
    }
   ],
   "source": [
    "# Fit data to model\n",
    "history = model.fit(\n",
    "    train_generator, \n",
    "    batch_size=32, \n",
    "    epochs=1,\n",
    "    callbacks=[model_checkpoint_callback],\n",
    "    validation_data=val_generator\n",
    ")"
   ]
  },
  {
   "cell_type": "code",
   "execution_count": 28,
   "id": "f9d2443a",
   "metadata": {},
   "outputs": [
    {
     "name": "stdout",
     "output_type": "stream",
     "text": [
      "{'loss': [349444.15625], 'accuracy': [0.49980002641677856], 'val_loss': [0.6931754946708679], 'val_accuracy': [0.5]}\n"
     ]
    }
   ],
   "source": [
    "# View training loss and metrics\n",
    "print(history.history)"
   ]
  },
  {
   "cell_type": "code",
   "execution_count": 29,
   "id": "6c9cb445",
   "metadata": {},
   "outputs": [],
   "source": [
    "# Save training history as binary file using pickle\n",
    "with open(\"./models/data/training_history_cats_and_dogs\", \"wb\") as training_history:\n",
    "    pickle.dump(history.history, training_history)"
   ]
  }
 ],
 "metadata": {
  "kernelspec": {
   "display_name": "Python 3.9.10 ('tensorflow')",
   "language": "python",
   "name": "python3910jvsc74a57bd02b3e8d847383b418f4f5c082aab76ad7cfafed727a8a909d5c0e0532c64b9ef4"
  },
  "language_info": {
   "codemirror_mode": {
    "name": "ipython",
    "version": 3
   },
   "file_extension": ".py",
   "mimetype": "text/x-python",
   "name": "python",
   "nbconvert_exporter": "python",
   "pygments_lexer": "ipython3",
   "version": "3.9.10"
  }
 },
 "nbformat": 4,
 "nbformat_minor": 5
}
